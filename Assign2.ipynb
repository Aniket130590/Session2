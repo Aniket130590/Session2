{
 "cells": [
  {
   "cell_type": "markdown",
   "metadata": {},
   "source": [
    "\n",
    "Write a Python Program to implement your own myreduce() function which works exactly like\n",
    "Python's built-in function reduce()\n"
   ]
  },
  {
   "cell_type": "code",
   "execution_count": 31,
   "metadata": {},
   "outputs": [],
   "source": [
    "def myreduce(fn,lst):\n",
    "    if isinstance(lst,(list,))!=True:\n",
    "        print('list requires as second parameter')\n",
    "    else:\n",
    "        try:\n",
    "            arg1=lst[0]\n",
    "            arg2=lst[1]\n",
    "            retres= fn(arg1,arg2) \n",
    "            for i in range(2,len(lst)):\n",
    "                arg1=retres\n",
    "                arg2=lst[i]\n",
    "                retres=fn(arg1,arg2)\n",
    "            return retres\n",
    "        except:\n",
    "            print('Invalid data passed')"
   ]
  },
  {
   "cell_type": "code",
   "execution_count": 32,
   "metadata": {},
   "outputs": [
    {
     "data": {
      "text/plain": [
       "2700"
      ]
     },
     "execution_count": 32,
     "metadata": {},
     "output_type": "execute_result"
    }
   ],
   "source": [
    "myreduce(lambda x,y:x*y,[1,5,3,6,5,6])"
   ]
  },
  {
   "cell_type": "markdown",
   "metadata": {},
   "source": [
    "Write a Python program to implement your own myfilter() function which works exactly like\n",
    "Python's built-in function filter()"
   ]
  },
  {
   "cell_type": "code",
   "execution_count": 33,
   "metadata": {},
   "outputs": [],
   "source": [
    "\n",
    "def myfilter(fun,b):\n",
    "    retval= list()\n",
    "    for i in b:\n",
    "            #lst2=lst2.append(i)\n",
    "            if fun(i) == True:\n",
    "                retval.append(i)\n",
    "    print(retval)"
   ]
  },
  {
   "cell_type": "code",
   "execution_count": 5,
   "metadata": {},
   "outputs": [
    {
     "name": "stdout",
     "output_type": "stream",
     "text": [
      "[2, 6, 8, 10]\n"
     ]
    }
   ],
   "source": [
    "sq=[1,2,6,9,8,7,10]\n",
    "ex = myfilter(lambda x:x%2==0,sq)\n",
    "ex"
   ]
  },
  {
   "cell_type": "markdown",
   "metadata": {},
   "source": [
    "Implement List comprehensions to produce the following lists.\n",
    "Write List comprehensions to produce the following Lists\n",
    "['A', 'C', 'A', 'D', 'G', 'I', ’L’, ‘ D’]"
   ]
  },
  {
   "cell_type": "code",
   "execution_count": 6,
   "metadata": {},
   "outputs": [
    {
     "name": "stdout",
     "output_type": "stream",
     "text": [
      "['A', 'C', 'A', 'D', 'E', 'G', 'I', 'L', 'D']\n"
     ]
    }
   ],
   "source": [
    "words = \"ACADEGILD\"\n",
    "List = list()\n",
    "for i in words:\n",
    "    List.append(i)\n",
    "    \n",
    "print(List)    "
   ]
  },
  {
   "cell_type": "code",
   "execution_count": 7,
   "metadata": {},
   "outputs": [],
   "source": [
    "# ['x', 'xx', 'xxx', 'xxxx', 'y', 'yy', 'yyy', 'yyyy', 'z', 'zz', 'zzz', 'zzzz']"
   ]
  },
  {
   "cell_type": "code",
   "execution_count": 8,
   "metadata": {},
   "outputs": [
    {
     "name": "stdout",
     "output_type": "stream",
     "text": [
      "['x', 'xx', 'xxx', 'xxxx', 'y', 'yy', 'yyy', 'yyyy', 'z', 'zz', 'zzz', 'zzzz']\n"
     ]
    }
   ],
   "source": [
    "words = \"xyz\"\n",
    "List = list()\n",
    "\n",
    "for i in words:\n",
    "    \n",
    "    for j in range(1,len(words)+2):\n",
    "       \n",
    "        #a.append(i*j)\n",
    "        List.append(i*j)         \n",
    "print(List)   "
   ]
  },
  {
   "cell_type": "code",
   "execution_count": 9,
   "metadata": {},
   "outputs": [],
   "source": [
    "# ['x', 'y', 'z', 'xx', 'yy', 'zz', 'xx', 'yy', 'zz', 'xxxx', 'yyyy', 'zzzz']"
   ]
  },
  {
   "cell_type": "code",
   "execution_count": 10,
   "metadata": {},
   "outputs": [
    {
     "name": "stdout",
     "output_type": "stream",
     "text": [
      "['x', 'y', 'z', 'xx', 'yy', 'zz', 'xxx', 'yyy', 'zzz', 'xxxx', 'yyyy', 'zzzz']\n"
     ]
    }
   ],
   "source": [
    "words = \"xyz\"\n",
    "List = list()\n",
    "count=1\n",
    "for i in range(4):\n",
    "    for j in range(len(words)):\n",
    "        \n",
    "        List.append(words[j]*count)  \n",
    "    count += 1\n",
    "    \n",
    "print(List) "
   ]
  },
  {
   "cell_type": "code",
   "execution_count": 11,
   "metadata": {},
   "outputs": [],
   "source": [
    "# [[2], [3], [4], [3], [4], [5], [4], [5], [6]]\n"
   ]
  },
  {
   "cell_type": "code",
   "execution_count": 12,
   "metadata": {},
   "outputs": [
    {
     "name": "stdout",
     "output_type": "stream",
     "text": [
      "['2', '3', '4', '3', '4', '5', '4', '5', '6']\n"
     ]
    }
   ],
   "source": [
    "letters= \"23456\"\n",
    "List = list()\n",
    "count=0\n",
    "y=0\n",
    "for i in range(3):\n",
    "   \n",
    "    for j in range(3):\n",
    "        y= j+count\n",
    "   \n",
    "        List.append(letters[y])  \n",
    "     \n",
    "    count += 1\n",
    "\n",
    "print(List) "
   ]
  },
  {
   "cell_type": "code",
   "execution_count": 13,
   "metadata": {},
   "outputs": [],
   "source": [
    "# [[2, 3, 4, 5], [3, 4, 5, 6], [4, 5, 6, 7], [5, 6, 7, 8]]"
   ]
  },
  {
   "cell_type": "code",
   "execution_count": 14,
   "metadata": {},
   "outputs": [
    {
     "name": "stdout",
     "output_type": "stream",
     "text": [
      "[[2, 3, 4, 5], [3, 4, 5, 6], [4, 5, 6, 7], [5, 6, 7, 8]]\n"
     ]
    }
   ],
   "source": [
    "sint=1\n",
    "ls1=list()\n",
    "ls2=list()\n",
    "for k in range(1,5):\n",
    "    ls2.append(sint+k)\n",
    "ls1.append(ls2)\n",
    "ls2=[]\n",
    "for i in range(3):\n",
    "    for l in ls1[i]:\n",
    "        ls2.append(int(l)+1)\n",
    "    ls1.append(ls2)\n",
    "    ls2=[]\n",
    "   \n",
    "print(ls1)"
   ]
  },
  {
   "cell_type": "code",
   "execution_count": 15,
   "metadata": {},
   "outputs": [],
   "source": [
    "# [(1, 1), (2, 1), (3, 1), (1, 2), (2, 2), (3, 2), (1, 3), (2, 3), (3, 3)]"
   ]
  },
  {
   "cell_type": "code",
   "execution_count": 16,
   "metadata": {},
   "outputs": [
    {
     "name": "stdout",
     "output_type": "stream",
     "text": [
      "[(1, 1), (2, 1), (3, 1), (1, 2), (2, 2), (3, 2), (1, 3), (2, 3), (3, 3)]\n"
     ]
    }
   ],
   "source": [
    "List = list()\n",
    "for i in range(1,4):\n",
    "   \n",
    "    for j in range(1,4):\n",
    "        List.append(tuple((j, i)))\n",
    "        \n",
    "print(List) \n"
   ]
  },
  {
   "cell_type": "markdown",
   "metadata": {},
   "source": [
    "3. Implement a function longestWord() that takes a list of words and returns the longest one."
   ]
  },
  {
   "cell_type": "code",
   "execution_count": 17,
   "metadata": {},
   "outputs": [
    {
     "name": "stdout",
     "output_type": "stream",
     "text": [
      "Enter sentance:my name is \n",
      "The count of string is: 4 and longest word is: name\n"
     ]
    }
   ],
   "source": [
    "\n",
    "def longestword():\n",
    "    long= 0\n",
    "    \n",
    "    word = input(\"Enter sentance:\")\n",
    "    word = word.split(\" \")\n",
    "    for i in word:\n",
    "        if len(i) > long :\n",
    "            long = len(i)\n",
    "            val = i\n",
    "\n",
    "    print(\"The count of string is: \" + str(long) +\" and longest word is: \"+ str(val))\n",
    "longestword()    "
   ]
  },
  {
   "cell_type": "markdown",
   "metadata": {},
   "source": [
    " 1.1 Write a Python Program(with class concepts) to find the area of the triangle using the below formula.\n",
    " area = (s*(s-a)*(s-b)*(s-c)) ** 0.5\n",
    " Function to take the length of the sides of triangle from user should be defined in the parent\n",
    " class and function to calculate the area should be defined in subclass."
   ]
  },
  {
   "cell_type": "code",
   "execution_count": 18,
   "metadata": {},
   "outputs": [],
   "source": [
    "class Area:\n",
    "    def  __init__(self):\n",
    "        print('Main class')\n",
    "    def getdata(self):\n",
    "        self.s1=float(input('Please eneter 1st side of the triangle '))\n",
    "        self.s2=float(input('Please enter 2nd side of the triangle '))\n",
    "        self.s3=float(input('Please enter 3rd side of teh triangle '))\n",
    "        return(self.s1,self.s2,self.s3)\n",
    "class Triangle(Area):\n",
    "    def __init__(self):\n",
    "        sides=self.getdata()\n",
    "        a=sides[0]\n",
    "        b=sides[1]\n",
    "        c=sides[2]\n",
    "        s=(a+b+c)/2\n",
    "        area=(s*(s-a)*(s-b)*(s-c))**0.5\n",
    "        print('The area of given triangle is ',area)"
   ]
  },
  {
   "cell_type": "code",
   "execution_count": 19,
   "metadata": {},
   "outputs": [
    {
     "name": "stdout",
     "output_type": "stream",
     "text": [
      "Please eneter 1st side of the triangle 3\n",
      "Please enter 2nd side of the triangle 4\n",
      "Please enter 3rd side of teh triangle 7\n",
      "The area of given triangle is  0.0\n"
     ]
    }
   ],
   "source": [
    "a=Triangle()"
   ]
  },
  {
   "cell_type": "markdown",
   "metadata": {},
   "source": [
    "1.2 Write a function filter_long_words() that takes a list of words and an integer n and returns \n",
    "the list of words that are longer than n."
   ]
  },
  {
   "cell_type": "code",
   "execution_count": 24,
   "metadata": {},
   "outputs": [],
   "source": [
    "def filter_long_words():\n",
    "    \n",
    "    long=list()\n",
    "    \n",
    "    word = input(\"Enter sentance:\")\n",
    "    n =  input(\"Enter n:\")\n",
    "    word = word.split(\" \")\n",
    "    for i in word:\n",
    "        if(str(len(i)) > n):\n",
    "            \n",
    "            long.append(i)\n",
    "            \n",
    "\n",
    "    print(\"The count of word is: \" + str(long))"
   ]
  },
  {
   "cell_type": "code",
   "execution_count": 25,
   "metadata": {},
   "outputs": [
    {
     "name": "stdout",
     "output_type": "stream",
     "text": [
      "Enter sentance:Hello everyone\n",
      "Enter n:5\n",
      "The count of word is: ['everyone']\n"
     ]
    }
   ],
   "source": [
    "filter_long_words()"
   ]
  },
  {
   "cell_type": "markdown",
   "metadata": {},
   "source": [
    "2.1 Write a Python program using function concept that maps list of words into a list of integers\n",
    "representing the lengths of the corresponding words."
   ]
  },
  {
   "cell_type": "code",
   "execution_count": 26,
   "metadata": {},
   "outputs": [],
   "source": [
    "def filter_count_long_words():\n",
    "    \n",
    "    long=list()\n",
    "    \n",
    "    word = input(\"Enter sentance:\")\n",
    "    n =  input(\"Enter n:\")\n",
    "    word = word.split(\" \")\n",
    "    for i in word:\n",
    "        if(str(len(i)) > n):\n",
    "            \n",
    "            long.append(len(i))\n",
    "            \n",
    "\n",
    "    print(\"The count of word is: \" + str(long))"
   ]
  },
  {
   "cell_type": "code",
   "execution_count": 27,
   "metadata": {},
   "outputs": [
    {
     "name": "stdout",
     "output_type": "stream",
     "text": [
      "Enter sentance:my name isxyz\n",
      "Enter n:2\n",
      "The count of word is: [4, 5]\n"
     ]
    }
   ],
   "source": [
    "filter_count_long_words()"
   ]
  },
  {
   "cell_type": "markdown",
   "metadata": {},
   "source": [
    "2.2 Write a Python function which takes a character (i.e. a string of length 1) and returns True if it is\n",
    "a vowel, False otherwise."
   ]
  },
  {
   "cell_type": "code",
   "execution_count": 1,
   "metadata": {},
   "outputs": [
    {
     "name": "stdout",
     "output_type": "stream",
     "text": [
      ": rrthjju\n",
      "r\n"
     ]
    }
   ],
   "source": [
    "guess = input (': ')[0].lower()\n",
    "print(guess)"
   ]
  },
  {
   "cell_type": "code",
   "execution_count": 3,
   "metadata": {},
   "outputs": [],
   "source": [
    "def ChkVowel(chr):\n",
    "    LstVowel=['a','e','i','o','u']\n",
    "    if chr[0].lower() in LstVowel:\n",
    "        return True\n",
    "    else:\n",
    "        return False"
   ]
  },
  {
   "cell_type": "code",
   "execution_count": 8,
   "metadata": {},
   "outputs": [
    {
     "data": {
      "text/plain": [
       "False"
      ]
     },
     "execution_count": 8,
     "metadata": {},
     "output_type": "execute_result"
    }
   ],
   "source": [
    "ChkVowel('A')"
   ]
  },
  {
   "cell_type": "code",
   "execution_count": null,
   "metadata": {},
   "outputs": [],
   "source": []
  }
 ],
 "metadata": {
  "kernelspec": {
   "display_name": "Python 3",
   "language": "python",
   "name": "python3"
  },
  "language_info": {
   "codemirror_mode": {
    "name": "ipython",
    "version": 3
   },
   "file_extension": ".py",
   "mimetype": "text/x-python",
   "name": "python",
   "nbconvert_exporter": "python",
   "pygments_lexer": "ipython3",
   "version": "3.7.0"
  }
 },
 "nbformat": 4,
 "nbformat_minor": 2
}
